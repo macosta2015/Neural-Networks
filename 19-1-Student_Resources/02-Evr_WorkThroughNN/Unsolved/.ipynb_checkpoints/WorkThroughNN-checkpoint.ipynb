{
 "cells": [
  {
   "cell_type": "code",
   "execution_count": 1,
   "metadata": {},
   "outputs": [],
   "source": [
    "# Import our dependencies\n",
    "import pandas as pd\n",
    "import matplotlib as plt\n",
    "from sklearn.datasets import make_blobs\n",
    "import sklearn as skl\n",
    "import tensorflow as tf"
   ]
  },
  {
   "cell_type": "code",
   "execution_count": 2,
   "metadata": {},
   "outputs": [
    {
     "data": {
      "text/plain": [
       "<matplotlib.axes._subplots.AxesSubplot at 0x7fc1ee331050>"
      ]
     },
     "execution_count": 2,
     "metadata": {},
     "output_type": "execute_result"
    },
    {
     "data": {
      "image/png": "[encoded data removed]",
      "text/plain": [
       "<Figure size 432x288 with 2 Axes>"
      ]
     },
     "metadata": {
      "needs_background": "light"
     },
     "output_type": "display_data"
    }
   ],
   "source": [
    "# Generate dummy dataset\n",
    "X, y = make_blobs(n_samples=1000, centers=2, n_features=2, random_state=78)\n",
    "\n",
    "# Creating a DataFrame with the dummy data\n",
    "df = pd.DataFrame(X, columns=[\"Feature 1\", \"Feature 2\"])\n",
    "df[\"Target\"] = y\n",
    "\n",
    "# Plotting the dummy data\n",
    "df.plot.scatter(x=\"Feature 1\", y=\"Feature 2\", c=\"Target\", colormap=\"winter\")"
   ]
  },
  {
   "cell_type": "code",
   "execution_count": 3,
   "metadata": {},
   "outputs": [],
   "source": [
    "# Use sklearn to split dataset\n",
    "from sklearn.model_selection import train_test_split\n",
    "X_train, X_test, y_train, y_test = train_test_split(X, y, random_state=78)"
   ]
  },
  {
   "cell_type": "code",
   "execution_count": 4,
   "metadata": {},
   "outputs": [],
   "source": [
    "# Create scaler instance\n",
    "X_scaler = skl.preprocessing.StandardScaler()\n",
    "\n",
    "# Fit the scaler\n",
    "X_scaler.fit(X_train)\n",
    "\n",
    "# Scale the data\n",
    "X_train_scaled = X_scaler.transform(X_train)\n",
    "X_test_scaled = X_scaler.transform(X_test)"
   ]
  },
  {
   "cell_type": "code",
   "execution_count": 5,
   "metadata": {},
   "outputs": [],
   "source": [
    "# Create the Keras Sequential model\n",
    "nn_model = tf.keras.models.Sequential()"
   ]
  },
  {
   "cell_type": "code",
   "execution_count": 6,
   "metadata": {},
   "outputs": [],
   "source": [
    "# Add our first Dense layer, including the input layer\n",
    "nn_model.add(tf.keras.layers.Dense(units=5, activation=\"relu\", input_dim=2))"
   ]
  },
  {
   "cell_type": "code",
   "execution_count": 7,
   "metadata": {},
   "outputs": [],
   "source": [
    "# Add the output layer that uses a probability activation function\n",
    "nn_model.add(tf.keras.layers.Dense(units=1, activation=\"sigmoid\"))"
   ]
  },
  {
   "cell_type": "code",
   "execution_count": 8,
   "metadata": {},
   "outputs": [
    {
     "name": "stdout",
     "output_type": "stream",
     "text": [
      "Model: \"sequential\"\n",
      "_________________________________________________________________\n",
      "Layer (type)                 Output Shape              Param #   \n",
      "=================================================================\n",
      "dense (Dense)                (None, 5)                 15        \n",
      "_________________________________________________________________\n",
      "dense_1 (Dense)              (None, 1)                 6         \n",
      "=================================================================\n",
      "Total params: 21\n",
      "Trainable params: 21\n",
      "Non-trainable params: 0\n",
      "_________________________________________________________________\n"
     ]
    }
   ],
   "source": [
    "# Check the structure of the Sequential model\n",
    "nn_model.summary()"
   ]
  },
  {
   "cell_type": "code",
   "execution_count": 9,
   "metadata": {},
   "outputs": [
    {
     "name": "stdout",
     "output_type": "stream",
     "text": [
      "Train on 750 samples\n",
      "Epoch 1/100\n",
      "750/750 [==============================] - 1s 887us/sample - loss: 0.4736 - accuracy: 0.9920\n",
      "Epoch 2/100\n",
      "750/750 [==============================] - 0s 48us/sample - loss: 0.4380 - accuracy: 1.0000\n",
      "Epoch 3/100\n",
      "750/750 [==============================] - 0s 50us/sample - loss: 0.4031 - accuracy: 1.0000\n",
      "Epoch 4/100\n",
      "750/750 [==============================] - 0s 47us/sample - loss: 0.3684 - accuracy: 1.0000\n",
      "Epoch 5/100\n",
      "750/750 [==============================] - 0s 54us/sample - loss: 0.3342 - accuracy: 1.0000\n",
      "Epoch 6/100\n",
      "750/750 [==============================] - 0s 50us/sample - loss: 0.3014 - accuracy: 1.0000\n",
      "Epoch 7/100\n",
      "750/750 [==============================] - 0s 50us/sample - loss: 0.2707 - accuracy: 1.0000\n",
      "Epoch 8/100\n",
      "750/750 [==============================] - 0s 49us/sample - loss: 0.2426 - accuracy: 1.0000\n",
      "Epoch 9/100\n",
      "750/750 [==============================] - 0s 50us/sample - loss: 0.2173 - accuracy: 1.0000\n",
      "Epoch 10/100\n",
      "750/750 [==============================] - 0s 48us/sample - loss: 0.1948 - accuracy: 1.0000\n",
      "Epoch 11/100\n",
      "750/750 [==============================] - 0s 49us/sample - loss: 0.1750 - accuracy: 1.0000\n",
      "Epoch 12/100\n",
      "750/750 [==============================] - 0s 51us/sample - loss: 0.1574 - accuracy: 0.9987\n",
      "Epoch 13/100\n",
      "750/750 [==============================] - 0s 52us/sample - loss: 0.1419 - accuracy: 0.9987\n",
      "Epoch 14/100\n",
      "750/750 [==============================] - 0s 47us/sample - loss: 0.1284 - accuracy: 0.9987\n",
      "Epoch 15/100\n",
      "750/750 [==============================] - 0s 52us/sample - loss: 0.1164 - accuracy: 0.9987\n",
      "Epoch 16/100\n",
      "750/750 [==============================] - 0s 51us/sample - loss: 0.1059 - accuracy: 0.9987\n",
      "Epoch 17/100\n",
      "750/750 [==============================] - 0s 52us/sample - loss: 0.0966 - accuracy: 0.9987\n",
      "Epoch 18/100\n",
      "750/750 [==============================] - 0s 50us/sample - loss: 0.0883 - accuracy: 0.9987\n",
      "Epoch 19/100\n",
      "750/750 [==============================] - 0s 49us/sample - loss: 0.0809 - accuracy: 0.9987\n",
      "Epoch 20/100\n",
      "750/750 [==============================] - 0s 52us/sample - loss: 0.0742 - accuracy: 0.9987\n",
      "Epoch 21/100\n",
      "750/750 [==============================] - 0s 51us/sample - loss: 0.0683 - accuracy: 0.9987\n",
      "Epoch 22/100\n",
      "750/750 [==============================] - 0s 52us/sample - loss: 0.0630 - accuracy: 1.0000\n",
      "Epoch 23/100\n",
      "750/750 [==============================] - 0s 50us/sample - loss: 0.0583 - accuracy: 1.0000\n",
      "Epoch 24/100\n",
      "750/750 [==============================] - 0s 53us/sample - loss: 0.0540 - accuracy: 1.0000\n",
      "Epoch 25/100\n",
      "750/750 [==============================] - 0s 52us/sample - loss: 0.0501 - accuracy: 1.0000\n",
      "Epoch 26/100\n",
      "750/750 [==============================] - 0s 58us/sample - loss: 0.0466 - accuracy: 1.0000\n",
      "Epoch 27/100\n",
      "750/750 [==============================] - 0s 60us/sample - loss: 0.0433 - accuracy: 1.0000\n",
      "Epoch 28/100\n",
      "750/750 [==============================] - 0s 55us/sample - loss: 0.0404 - accuracy: 1.0000\n",
      "Epoch 29/100\n",
      "750/750 [==============================] - 0s 51us/sample - loss: 0.0377 - accuracy: 1.0000\n",
      "Epoch 30/100\n",
      "750/750 [==============================] - 0s 53us/sample - loss: 0.0353 - accuracy: 1.0000\n",
      "Epoch 31/100\n",
      "750/750 [==============================] - 0s 55us/sample - loss: 0.0331 - accuracy: 1.0000\n",
      "Epoch 32/100\n",
      "750/750 [==============================] - 0s 51us/sample - loss: 0.0310 - accuracy: 1.0000\n",
      "Epoch 33/100\n",
      "750/750 [==============================] - 0s 53us/sample - loss: 0.0292 - accuracy: 1.0000\n",
      "Epoch 34/100\n",
      "750/750 [==============================] - 0s 59us/sample - loss: 0.0274 - accuracy: 1.0000\n",
      "Epoch 35/100\n",
      "750/750 [==============================] - 0s 50us/sample - loss: 0.0258 - accuracy: 1.0000\n",
      "Epoch 36/100\n",
      "750/750 [==============================] - 0s 49us/sample - loss: 0.0243 - accuracy: 1.0000\n",
      "Epoch 37/100\n",
      "750/750 [==============================] - 0s 53us/sample - loss: 0.0230 - accuracy: 1.0000\n",
      "Epoch 38/100\n",
      "750/750 [==============================] - 0s 50us/sample - loss: 0.0217 - accuracy: 1.0000\n",
      "Epoch 39/100\n",
      "750/750 [==============================] - 0s 48us/sample - loss: 0.0206 - accuracy: 1.0000\n",
      "Epoch 40/100\n",
      "750/750 [==============================] - 0s 54us/sample - loss: 0.0195 - accuracy: 1.0000\n",
      "Epoch 41/100\n",
      "750/750 [==============================] - 0s 52us/sample - loss: 0.0185 - accuracy: 1.0000\n",
      "Epoch 42/100\n",
      "750/750 [==============================] - 0s 58us/sample - loss: 0.0176 - accuracy: 1.0000\n",
      "Epoch 43/100\n",
      "750/750 [==============================] - 0s 59us/sample - loss: 0.0167 - accuracy: 1.0000\n",
      "Epoch 44/100\n",
      "750/750 [==============================] - 0s 60us/sample - loss: 0.0159 - accuracy: 1.0000\n",
      "Epoch 45/100\n",
      "750/750 [==============================] - 0s 61us/sample - loss: 0.0151 - accuracy: 1.0000\n",
      "Epoch 46/100\n",
      "750/750 [==============================] - 0s 61us/sample - loss: 0.0144 - accuracy: 1.0000\n",
      "Epoch 47/100\n",
      "750/750 [==============================] - 0s 59us/sample - loss: 0.0137 - accuracy: 1.0000\n",
      "Epoch 48/100\n",
      "750/750 [==============================] - 0s 60us/sample - loss: 0.0131 - accuracy: 1.0000\n",
      "Epoch 49/100\n",
      "750/750 [==============================] - 0s 62us/sample - loss: 0.0125 - accuracy: 1.0000\n",
      "Epoch 50/100\n",
      "750/750 [==============================] - 0s 62us/sample - loss: 0.0120 - accuracy: 1.0000\n",
      "Epoch 51/100\n",
      "750/750 [==============================] - 0s 62us/sample - loss: 0.0115 - accuracy: 1.0000\n",
      "Epoch 52/100\n",
      "750/750 [==============================] - 0s 61us/sample - loss: 0.0110 - accuracy: 1.0000\n",
      "Epoch 53/100\n",
      "750/750 [==============================] - 0s 56us/sample - loss: 0.0105 - accuracy: 1.0000\n",
      "Epoch 54/100\n",
      "750/750 [==============================] - 0s 47us/sample - loss: 0.0101 - accuracy: 1.0000\n",
      "Epoch 55/100\n",
      "750/750 [==============================] - 0s 51us/sample - loss: 0.0097 - accuracy: 1.0000\n",
      "Epoch 56/100\n",
      "750/750 [==============================] - 0s 51us/sample - loss: 0.0093 - accuracy: 1.0000\n",
      "Epoch 57/100\n",
      "750/750 [==============================] - 0s 49us/sample - loss: 0.0089 - accuracy: 1.0000\n",
      "Epoch 58/100\n",
      "750/750 [==============================] - 0s 66us/sample - loss: 0.0085 - accuracy: 1.0000\n",
      "Epoch 59/100\n",
      "750/750 [==============================] - 0s 64us/sample - loss: 0.0082 - accuracy: 1.0000\n",
      "Epoch 60/100\n",
      "750/750 [==============================] - 0s 44us/sample - loss: 0.0079 - accuracy: 1.0000\n",
      "Epoch 61/100\n",
      "750/750 [==============================] - 0s 43us/sample - loss: 0.0076 - accuracy: 1.0000\n",
      "Epoch 62/100\n",
      "750/750 [==============================] - 0s 41us/sample - loss: 0.0073 - accuracy: 1.0000\n",
      "Epoch 63/100\n",
      "750/750 [==============================] - 0s 42us/sample - loss: 0.0071 - accuracy: 1.0000\n",
      "Epoch 64/100\n",
      "750/750 [==============================] - 0s 43us/sample - loss: 0.0068 - accuracy: 1.0000\n",
      "Epoch 65/100\n",
      "750/750 [==============================] - 0s 49us/sample - loss: 0.0066 - accuracy: 1.0000\n",
      "Epoch 66/100\n",
      "750/750 [==============================] - 0s 54us/sample - loss: 0.0063 - accuracy: 1.0000\n",
      "Epoch 67/100\n",
      "750/750 [==============================] - 0s 53us/sample - loss: 0.0061 - accuracy: 1.0000\n",
      "Epoch 68/100\n",
      "750/750 [==============================] - 0s 56us/sample - loss: 0.0059 - accuracy: 1.0000\n",
      "Epoch 69/100\n",
      "750/750 [==============================] - 0s 52us/sample - loss: 0.0057 - accuracy: 1.0000\n",
      "Epoch 70/100\n",
      "750/750 [==============================] - 0s 60us/sample - loss: 0.0055 - accuracy: 1.0000\n",
      "Epoch 71/100\n",
      "750/750 [==============================] - 0s 59us/sample - loss: 0.0053 - accuracy: 1.0000\n",
      "Epoch 72/100\n",
      "750/750 [==============================] - 0s 52us/sample - loss: 0.0052 - accuracy: 1.0000\n",
      "Epoch 73/100\n",
      "750/750 [==============================] - 0s 55us/sample - loss: 0.0050 - accuracy: 1.0000\n",
      "Epoch 74/100\n",
      "750/750 [==============================] - 0s 56us/sample - loss: 0.0048 - accuracy: 1.0000\n",
      "Epoch 75/100\n",
      "750/750 [==============================] - 0s 53us/sample - loss: 0.0047 - accuracy: 1.0000\n",
      "Epoch 76/100\n",
      "750/750 [==============================] - 0s 50us/sample - loss: 0.0045 - accuracy: 1.0000\n",
      "Epoch 77/100\n",
      "750/750 [==============================] - 0s 52us/sample - loss: 0.0044 - accuracy: 1.0000\n",
      "Epoch 78/100\n"
     ]
    },
    {
     "name": "stdout",
     "output_type": "stream",
     "text": [
      "750/750 [==============================] - 0s 44us/sample - loss: 0.0043 - accuracy: 1.0000\n",
      "Epoch 79/100\n",
      "750/750 [==============================] - 0s 50us/sample - loss: 0.0041 - accuracy: 1.0000\n",
      "Epoch 80/100\n",
      "750/750 [==============================] - 0s 44us/sample - loss: 0.0040 - accuracy: 1.0000\n",
      "Epoch 81/100\n",
      "750/750 [==============================] - 0s 45us/sample - loss: 0.0039 - accuracy: 1.0000\n",
      "Epoch 82/100\n",
      "750/750 [==============================] - 0s 48us/sample - loss: 0.0038 - accuracy: 1.0000\n",
      "Epoch 83/100\n",
      "750/750 [==============================] - 0s 51us/sample - loss: 0.0037 - accuracy: 1.0000\n",
      "Epoch 84/100\n",
      "750/750 [==============================] - 0s 53us/sample - loss: 0.0036 - accuracy: 1.0000\n",
      "Epoch 85/100\n",
      "750/750 [==============================] - 0s 52us/sample - loss: 0.0035 - accuracy: 1.0000\n",
      "Epoch 86/100\n",
      "750/750 [==============================] - 0s 57us/sample - loss: 0.0034 - accuracy: 1.0000\n",
      "Epoch 87/100\n",
      "750/750 [==============================] - 0s 62us/sample - loss: 0.0033 - accuracy: 1.0000\n",
      "Epoch 88/100\n",
      "750/750 [==============================] - 0s 58us/sample - loss: 0.0032 - accuracy: 1.0000\n",
      "Epoch 89/100\n",
      "750/750 [==============================] - 0s 45us/sample - loss: 0.0031 - accuracy: 1.0000\n",
      "Epoch 90/100\n",
      "750/750 [==============================] - 0s 44us/sample - loss: 0.0030 - accuracy: 1.0000\n",
      "Epoch 91/100\n",
      "750/750 [==============================] - 0s 47us/sample - loss: 0.0030 - accuracy: 1.0000\n",
      "Epoch 92/100\n",
      "750/750 [==============================] - 0s 44us/sample - loss: 0.0029 - accuracy: 1.0000\n",
      "Epoch 93/100\n",
      "750/750 [==============================] - 0s 60us/sample - loss: 0.0028 - accuracy: 1.0000\n",
      "Epoch 94/100\n",
      "750/750 [==============================] - 0s 45us/sample - loss: 0.0027 - accuracy: 1.0000\n",
      "Epoch 95/100\n",
      "750/750 [==============================] - 0s 43us/sample - loss: 0.0027 - accuracy: 1.0000\n",
      "Epoch 96/100\n",
      "750/750 [==============================] - 0s 43us/sample - loss: 0.0026 - accuracy: 1.0000\n",
      "Epoch 97/100\n",
      "750/750 [==============================] - 0s 42us/sample - loss: 0.0025 - accuracy: 1.0000\n",
      "Epoch 98/100\n",
      "750/750 [==============================] - 0s 42us/sample - loss: 0.0025 - accuracy: 1.0000\n",
      "Epoch 99/100\n",
      "750/750 [==============================] - 0s 47us/sample - loss: 0.0024 - accuracy: 1.0000\n",
      "Epoch 100/100\n",
      "750/750 [==============================] - 0s 43us/sample - loss: 0.0023 - accuracy: 1.0000\n"
     ]
    }
   ],
   "source": [
    "# Compile the Sequential model together and customize metrics\n",
    "nn_model.compile(loss=\"binary_crossentropy\", optimizer=\"adam\", metrics=[\"accuracy\"])\n",
    "\n",
    "# Fit the model to the training data\n",
    "fit_model = nn_model.fit(X_train_scaled, y_train, epochs=100)"
   ]
  },
  {
   "cell_type": "code",
   "execution_count": 10,
   "metadata": {},
   "outputs": [
    {
     "data": {
      "text/plain": [
       "<matplotlib.axes._subplots.AxesSubplot at 0x7fc1f0114650>"
      ]
     },
     "execution_count": 10,
     "metadata": {},
     "output_type": "execute_result"
    },
    {
     "data": {
      "image/png": "[encoded data removed]",
      "text/plain": [
       "<Figure size 432x288 with 1 Axes>"
      ]
     },
     "metadata": {
      "needs_background": "light"
     },
     "output_type": "display_data"
    }
   ],
   "source": [
    "# Create a DataFrame containing training history\n",
    "history_df = pd.DataFrame(fit_model.history)\n",
    "\n",
    "# Increase the index by 1 to match the number of epochs\n",
    "history_df.index += 1\n",
    "\n",
    "# Plot the loss\n",
    "history_df.plot(y=\"loss\")"
   ]
  },
  {
   "cell_type": "code",
   "execution_count": 11,
   "metadata": {},
   "outputs": [
    {
     "data": {
      "text/plain": [
       "<matplotlib.axes._subplots.AxesSubplot at 0x7fc1d065e7d0>"
      ]
     },
     "execution_count": 11,
     "metadata": {},
     "output_type": "execute_result"
    },
    {
     "data": {
      "image/png": "[encoded data removed]",
      "text/plain": [
       "<Figure size 432x288 with 1 Axes>"
      ]
     },
     "metadata": {
      "needs_background": "light"
     },
     "output_type": "display_data"
    }
   ],
   "source": [
    "# Plot the accuracy\n",
    "history_df.plot(y=\"accuracy\")"
   ]
  },
  {
   "cell_type": "code",
   "execution_count": 12,
   "metadata": {},
   "outputs": [
    {
     "name": "stdout",
     "output_type": "stream",
     "text": [
      "250/1 - 0s - loss: 0.0013 - accuracy: 1.0000\n",
      "Loss: 0.0018393339053727686, Accuracy: 1.0\n"
     ]
    }
   ],
   "source": [
    "# Evaluate the model using the test data\n",
    "model_loss, model_accuracy = nn_model.evaluate(X_test_scaled,y_test,verbose=2)\n",
    "print(f\"Loss: {model_loss}, Accuracy: {model_accuracy}\")"
   ]
  },
  {
   "cell_type": "code",
   "execution_count": null,
   "metadata": {},
   "outputs": [],
   "source": []
  }
 ],
 "metadata": {
  "kernelspec": {
   "display_name": "mlenv",
   "language": "python",
   "name": "mlenv"
  },
  "language_info": {
   "codemirror_mode": {
    "name": "ipython",
    "version": 3
   },
   "file_extension": ".py",
   "mimetype": "text/x-python",
   "name": "python",
   "nbconvert_exporter": "python",
   "pygments_lexer": "ipython3",
   "version": "3.7.7"
  }
 },
 "nbformat": 4,
 "nbformat_minor": 2
}
