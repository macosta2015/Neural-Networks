{
 "cells": [
  {
   "cell_type": "code",
   "execution_count": 1,
   "id": "1af36458",
   "metadata": {},
   "outputs": [],
   "source": [
    "# Import our dependencies\n",
    "import pandas as pd\n",
    "import matplotlib as plt\n",
    "from sklearn.datasets import make_blobs\n",
    "import sklearn as skl\n",
    "import tensorflow as tf"
   ]
  },
  {
   "cell_type": "code",
   "execution_count": 2,
   "id": "e3a89953",
   "metadata": {},
   "outputs": [
    {
     "data": {
      "text/plain": [
       "<AxesSubplot:xlabel='Feature 1', ylabel='Feature 2'>"
      ]
     },
     "execution_count": 2,
     "metadata": {},
     "output_type": "execute_result"
    },
    {
     "data": {
      "image/png": "[encoded data removed]",
      "text/plain": [
       "<Figure size 432x288 with 2 Axes>"
      ]
     },
     "metadata": {
      "needs_background": "light"
     },
     "output_type": "display_data"
    }
   ],
   "source": [
    "# Generate dummy dataset\n",
    "X, y = make_blobs(n_samples=1000, centers=2, n_features=2, random_state=78)\n",
    "\n",
    "# Creating a DataFrame with the dummy data\n",
    "df = pd.DataFrame(X, columns=[\"Feature 1\", \"Feature 2\"])\n",
    "df[\"Target\"] = y\n",
    "\n",
    "# Plotting the dummy data\n",
    "df.plot.scatter(x=\"Feature 1\", y=\"Feature 2\", c=\"Target\", colormap=\"winter\")"
   ]
  },
  {
   "cell_type": "code",
   "execution_count": 3,
   "id": "05dfc9d5",
   "metadata": {},
   "outputs": [],
   "source": [
    "# Use sklearn to split dataset\n",
    "from sklearn.model_selection import train_test_split\n",
    "X_train, X_test, y_train, y_test = train_test_split(X, y, random_state=78)"
   ]
  },
  {
   "cell_type": "code",
   "execution_count": 4,
   "id": "f2285119",
   "metadata": {},
   "outputs": [],
   "source": [
    "# Create scaler instance\n",
    "X_scaler = skl.preprocessing.StandardScaler()\n",
    "\n",
    "# Fit the scaler\n",
    "X_scaler.fit(X_train)\n",
    "\n",
    "# Scale the data\n",
    "X_train_scaled = X_scaler.transform(X_train)\n",
    "X_test_scaled = X_scaler.transform(X_test)"
   ]
  },
  {
   "cell_type": "code",
   "execution_count": 5,
   "id": "d882bcb2",
   "metadata": {},
   "outputs": [],
   "source": [
    "# Create the Keras Sequential model\n",
    "nn_model = tf.keras.models.Sequential()"
   ]
  },
  {
   "cell_type": "code",
   "execution_count": 6,
   "id": "3301b3fc",
   "metadata": {},
   "outputs": [],
   "source": [
    "# Add our first Dense layer, including the input layer\n",
    "nn_model.add(tf.keras.layers.Dense(units=1, activation=\"relu\", input_dim=2))"
   ]
  },
  {
   "cell_type": "code",
   "execution_count": 7,
   "id": "1618f46b",
   "metadata": {},
   "outputs": [],
   "source": [
    "# Add the output layer that uses a probability activation function\n",
    "nn_model.add(tf.keras.layers.Dense(units=1, activation=\"sigmoid\"))"
   ]
  },
  {
   "cell_type": "code",
   "execution_count": 8,
   "id": "c15698cb",
   "metadata": {},
   "outputs": [
    {
     "name": "stdout",
     "output_type": "stream",
     "text": [
      "Model: \"sequential\"\n",
      "_________________________________________________________________\n",
      "Layer (type)                 Output Shape              Param #   \n",
      "=================================================================\n",
      "dense (Dense)                (None, 1)                 3         \n",
      "_________________________________________________________________\n",
      "dense_1 (Dense)              (None, 1)                 2         \n",
      "=================================================================\n",
      "Total params: 5\n",
      "Trainable params: 5\n",
      "Non-trainable params: 0\n",
      "_________________________________________________________________\n"
     ]
    }
   ],
   "source": [
    "# Check the structure of the Sequential model\n",
    "nn_model.summary()"
   ]
  },
  {
   "cell_type": "code",
   "execution_count": 9,
   "id": "5a6359c2",
   "metadata": {},
   "outputs": [],
   "source": [
    "# Compile the Sequential model together and customize metrics\n",
    "nn_model.compile(loss=\"binary_crossentropy\", optimizer=\"adam\", metrics=[\"accuracy\"])"
   ]
  },
  {
   "cell_type": "code",
   "execution_count": 10,
   "id": "2c2379d5",
   "metadata": {},
   "outputs": [
    {
     "name": "stdout",
     "output_type": "stream",
     "text": [
      "Epoch 1/100\n",
      "24/24 [==============================] - 0s 715us/step - loss: 0.7445 - accuracy: 0.0667\n",
      "Epoch 2/100\n",
      "24/24 [==============================] - 0s 616us/step - loss: 0.7354 - accuracy: 0.0093\n",
      "Epoch 3/100\n",
      "24/24 [==============================] - 0s 614us/step - loss: 0.7277 - accuracy: 0.0093\n",
      "Epoch 4/100\n",
      "24/24 [==============================] - 0s 611us/step - loss: 0.7213 - accuracy: 0.0133\n",
      "Epoch 5/100\n",
      "24/24 [==============================] - 0s 702us/step - loss: 0.7159 - accuracy: 0.0253\n",
      "Epoch 6/100\n",
      "24/24 [==============================] - 0s 650us/step - loss: 0.7115 - accuracy: 0.0560\n",
      "Epoch 7/100\n",
      "24/24 [==============================] - 0s 625us/step - loss: 0.7077 - accuracy: 0.0920\n",
      "Epoch 8/100\n",
      "24/24 [==============================] - 0s 584us/step - loss: 0.7046 - accuracy: 0.1533\n",
      "Epoch 9/100\n",
      "24/24 [==============================] - 0s 737us/step - loss: 0.7022 - accuracy: 0.2387\n",
      "Epoch 10/100\n",
      "24/24 [==============================] - 0s 612us/step - loss: 0.7001 - accuracy: 0.3040\n",
      "Epoch 11/100\n",
      "24/24 [==============================] - 0s 613us/step - loss: 0.6984 - accuracy: 0.4307\n",
      "Epoch 12/100\n",
      "24/24 [==============================] - 0s 682us/step - loss: 0.6970 - accuracy: 0.4947\n",
      "Epoch 13/100\n",
      "24/24 [==============================] - 0s 879us/step - loss: 0.6959 - accuracy: 0.5053\n",
      "Epoch 14/100\n",
      "24/24 [==============================] - 0s 741us/step - loss: 0.6950 - accuracy: 0.5067\n",
      "Epoch 15/100\n",
      "24/24 [==============================] - 0s 894us/step - loss: 0.6943 - accuracy: 0.5067\n",
      "Epoch 16/100\n",
      "24/24 [==============================] - 0s 765us/step - loss: 0.6936 - accuracy: 0.5067\n",
      "Epoch 17/100\n",
      "24/24 [==============================] - 0s 662us/step - loss: 0.6929 - accuracy: 0.5067\n",
      "Epoch 18/100\n",
      "24/24 [==============================] - 0s 705us/step - loss: 0.6923 - accuracy: 0.5067\n",
      "Epoch 19/100\n",
      "24/24 [==============================] - 0s 737us/step - loss: 0.6916 - accuracy: 0.5067\n",
      "Epoch 20/100\n",
      "24/24 [==============================] - 0s 612us/step - loss: 0.6908 - accuracy: 0.5067\n",
      "Epoch 21/100\n",
      "24/24 [==============================] - 0s 737us/step - loss: 0.6897 - accuracy: 0.5067\n",
      "Epoch 22/100\n",
      "24/24 [==============================] - 0s 618us/step - loss: 0.6883 - accuracy: 0.5067\n",
      "Epoch 23/100\n",
      "24/24 [==============================] - 0s 651us/step - loss: 0.6863 - accuracy: 0.5067\n",
      "Epoch 24/100\n",
      "24/24 [==============================] - 0s 675us/step - loss: 0.6837 - accuracy: 0.5067\n",
      "Epoch 25/100\n",
      "24/24 [==============================] - 0s 687us/step - loss: 0.6801 - accuracy: 0.5067\n",
      "Epoch 26/100\n",
      "24/24 [==============================] - 0s 701us/step - loss: 0.6751 - accuracy: 0.5067\n",
      "Epoch 27/100\n",
      "24/24 [==============================] - 0s 1ms/step - loss: 0.6684 - accuracy: 0.5067\n",
      "Epoch 28/100\n",
      "24/24 [==============================] - 0s 923us/step - loss: 0.6598 - accuracy: 0.5067\n",
      "Epoch 29/100\n",
      "24/24 [==============================] - 0s 809us/step - loss: 0.6489 - accuracy: 0.5067\n",
      "Epoch 30/100\n",
      "24/24 [==============================] - 0s 678us/step - loss: 0.6357 - accuracy: 0.5067\n",
      "Epoch 31/100\n",
      "24/24 [==============================] - 0s 706us/step - loss: 0.6205 - accuracy: 0.6053\n",
      "Epoch 32/100\n",
      "24/24 [==============================] - 0s 781us/step - loss: 0.6030 - accuracy: 0.9960\n",
      "Epoch 33/100\n",
      "24/24 [==============================] - 0s 836us/step - loss: 0.5843 - accuracy: 0.9960\n",
      "Epoch 34/100\n",
      "24/24 [==============================] - 0s 918us/step - loss: 0.5646 - accuracy: 0.9947\n",
      "Epoch 35/100\n",
      "24/24 [==============================] - 0s 900us/step - loss: 0.5446 - accuracy: 0.9947\n",
      "Epoch 36/100\n",
      "24/24 [==============================] - 0s 888us/step - loss: 0.5245 - accuracy: 0.9947\n",
      "Epoch 37/100\n",
      "24/24 [==============================] - 0s 898us/step - loss: 0.5048 - accuracy: 0.9947\n",
      "Epoch 38/100\n",
      "24/24 [==============================] - 0s 897us/step - loss: 0.4854 - accuracy: 0.9947\n",
      "Epoch 39/100\n",
      "24/24 [==============================] - 0s 895us/step - loss: 0.4670 - accuracy: 0.9947\n",
      "Epoch 40/100\n",
      "24/24 [==============================] - 0s 786us/step - loss: 0.4493 - accuracy: 0.9947\n",
      "Epoch 41/100\n",
      "24/24 [==============================] - 0s 864us/step - loss: 0.4325 - accuracy: 0.9947\n",
      "Epoch 42/100\n",
      "24/24 [==============================] - 0s 837us/step - loss: 0.4165 - accuracy: 0.9960\n",
      "Epoch 43/100\n",
      "24/24 [==============================] - 0s 830us/step - loss: 0.4015 - accuracy: 0.9960\n",
      "Epoch 44/100\n",
      "24/24 [==============================] - 0s 956us/step - loss: 0.3873 - accuracy: 0.9960\n",
      "Epoch 45/100\n",
      "24/24 [==============================] - 0s 777us/step - loss: 0.3738 - accuracy: 0.9960\n",
      "Epoch 46/100\n",
      "24/24 [==============================] - 0s 863us/step - loss: 0.3611 - accuracy: 0.9960\n",
      "Epoch 47/100\n",
      "24/24 [==============================] - 0s 827us/step - loss: 0.3491 - accuracy: 0.9960\n",
      "Epoch 48/100\n",
      "24/24 [==============================] - 0s 828us/step - loss: 0.3378 - accuracy: 0.9960\n",
      "Epoch 49/100\n",
      "24/24 [==============================] - 0s 823us/step - loss: 0.3271 - accuracy: 0.9960\n",
      "Epoch 50/100\n",
      "24/24 [==============================] - 0s 831us/step - loss: 0.3169 - accuracy: 0.9960\n",
      "Epoch 51/100\n",
      "24/24 [==============================] - 0s 898us/step - loss: 0.3073 - accuracy: 0.9960\n",
      "Epoch 52/100\n",
      "24/24 [==============================] - 0s 800us/step - loss: 0.2981 - accuracy: 0.9960\n",
      "Epoch 53/100\n",
      "24/24 [==============================] - 0s 824us/step - loss: 0.2894 - accuracy: 0.9960\n",
      "Epoch 54/100\n",
      "24/24 [==============================] - 0s 801us/step - loss: 0.2812 - accuracy: 0.9960\n",
      "Epoch 55/100\n",
      "24/24 [==============================] - 0s 857us/step - loss: 0.2733 - accuracy: 0.9960\n",
      "Epoch 56/100\n",
      "24/24 [==============================] - 0s 839us/step - loss: 0.2658 - accuracy: 0.9960\n",
      "Epoch 57/100\n",
      "24/24 [==============================] - 0s 752us/step - loss: 0.2586 - accuracy: 0.9960\n",
      "Epoch 58/100\n",
      "24/24 [==============================] - 0s 597us/step - loss: 0.2518 - accuracy: 0.9960\n",
      "Epoch 59/100\n",
      "24/24 [==============================] - 0s 679us/step - loss: 0.2452 - accuracy: 0.9960\n",
      "Epoch 60/100\n",
      "24/24 [==============================] - 0s 645us/step - loss: 0.2389 - accuracy: 0.9960\n",
      "Epoch 61/100\n",
      "24/24 [==============================] - 0s 616us/step - loss: 0.2329 - accuracy: 0.9960\n",
      "Epoch 62/100\n",
      "24/24 [==============================] - 0s 586us/step - loss: 0.2271 - accuracy: 0.9960\n",
      "Epoch 63/100\n",
      "24/24 [==============================] - 0s 611us/step - loss: 0.2216 - accuracy: 0.9960\n",
      "Epoch 64/100\n",
      "24/24 [==============================] - 0s 641us/step - loss: 0.2162 - accuracy: 0.9960\n",
      "Epoch 65/100\n",
      "24/24 [==============================] - 0s 647us/step - loss: 0.2111 - accuracy: 0.9960\n",
      "Epoch 66/100\n",
      "24/24 [==============================] - 0s 596us/step - loss: 0.2061 - accuracy: 0.9960\n",
      "Epoch 67/100\n",
      "24/24 [==============================] - 0s 593us/step - loss: 0.2014 - accuracy: 0.9960\n",
      "Epoch 68/100\n",
      "24/24 [==============================] - 0s 599us/step - loss: 0.1968 - accuracy: 0.9960\n",
      "Epoch 69/100\n",
      "24/24 [==============================] - 0s 596us/step - loss: 0.1924 - accuracy: 0.9960\n",
      "Epoch 70/100\n",
      "24/24 [==============================] - 0s 606us/step - loss: 0.1881 - accuracy: 0.9960\n",
      "Epoch 71/100\n",
      "24/24 [==============================] - 0s 582us/step - loss: 0.1839 - accuracy: 0.9960\n",
      "Epoch 72/100\n",
      "24/24 [==============================] - 0s 593us/step - loss: 0.1800 - accuracy: 0.9960\n",
      "Epoch 73/100\n",
      "24/24 [==============================] - 0s 598us/step - loss: 0.1761 - accuracy: 0.9973\n",
      "Epoch 74/100\n",
      "24/24 [==============================] - 0s 599us/step - loss: 0.1724 - accuracy: 0.9973\n",
      "Epoch 75/100\n",
      "24/24 [==============================] - 0s 600us/step - loss: 0.1688 - accuracy: 0.9987\n",
      "Epoch 76/100\n",
      "24/24 [==============================] - 0s 588us/step - loss: 0.1653 - accuracy: 0.9987\n",
      "Epoch 77/100\n",
      "24/24 [==============================] - 0s 576us/step - loss: 0.1619 - accuracy: 1.0000\n",
      "Epoch 78/100\n",
      "24/24 [==============================] - 0s 591us/step - loss: 0.1586 - accuracy: 1.0000\n",
      "Epoch 79/100\n",
      "24/24 [==============================] - 0s 592us/step - loss: 0.1554 - accuracy: 1.0000\n",
      "Epoch 80/100\n",
      "24/24 [==============================] - 0s 592us/step - loss: 0.1523 - accuracy: 1.0000\n",
      "Epoch 81/100\n"
     ]
    },
    {
     "name": "stdout",
     "output_type": "stream",
     "text": [
      "24/24 [==============================] - 0s 578us/step - loss: 0.1493 - accuracy: 1.0000\n",
      "Epoch 82/100\n",
      "24/24 [==============================] - 0s 602us/step - loss: 0.1464 - accuracy: 1.0000\n",
      "Epoch 83/100\n",
      "24/24 [==============================] - 0s 582us/step - loss: 0.1436 - accuracy: 1.0000\n",
      "Epoch 84/100\n",
      "24/24 [==============================] - 0s 578us/step - loss: 0.1408 - accuracy: 1.0000\n",
      "Epoch 85/100\n",
      "24/24 [==============================] - 0s 849us/step - loss: 0.1381 - accuracy: 1.0000\n",
      "Epoch 86/100\n",
      "24/24 [==============================] - 0s 675us/step - loss: 0.1355 - accuracy: 1.0000\n",
      "Epoch 87/100\n",
      "24/24 [==============================] - 0s 565us/step - loss: 0.1330 - accuracy: 1.0000\n",
      "Epoch 88/100\n",
      "24/24 [==============================] - 0s 559us/step - loss: 0.1305 - accuracy: 1.0000\n",
      "Epoch 89/100\n",
      "24/24 [==============================] - 0s 559us/step - loss: 0.1281 - accuracy: 1.0000\n",
      "Epoch 90/100\n",
      "24/24 [==============================] - 0s 561us/step - loss: 0.1258 - accuracy: 1.0000\n",
      "Epoch 91/100\n",
      "24/24 [==============================] - 0s 577us/step - loss: 0.1234 - accuracy: 1.0000\n",
      "Epoch 92/100\n",
      "24/24 [==============================] - 0s 563us/step - loss: 0.1212 - accuracy: 1.0000\n",
      "Epoch 93/100\n",
      "24/24 [==============================] - 0s 556us/step - loss: 0.1191 - accuracy: 1.0000\n",
      "Epoch 94/100\n",
      "24/24 [==============================] - 0s 564us/step - loss: 0.1169 - accuracy: 1.0000\n",
      "Epoch 95/100\n",
      "24/24 [==============================] - 0s 561us/step - loss: 0.1149 - accuracy: 1.0000\n",
      "Epoch 96/100\n",
      "24/24 [==============================] - 0s 556us/step - loss: 0.1129 - accuracy: 1.0000\n",
      "Epoch 97/100\n",
      "24/24 [==============================] - 0s 581us/step - loss: 0.1109 - accuracy: 1.0000\n",
      "Epoch 98/100\n",
      "24/24 [==============================] - 0s 558us/step - loss: 0.1090 - accuracy: 1.0000\n",
      "Epoch 99/100\n",
      "24/24 [==============================] - 0s 561us/step - loss: 0.1071 - accuracy: 1.0000\n",
      "Epoch 100/100\n",
      "24/24 [==============================] - 0s 609us/step - loss: 0.1053 - accuracy: 1.0000\n"
     ]
    }
   ],
   "source": [
    "# Fit the model to the training data\n",
    "fit_model = nn_model.fit(X_train_scaled, y_train, epochs=100)"
   ]
  },
  {
   "cell_type": "code",
   "execution_count": 11,
   "id": "ec3ee067",
   "metadata": {},
   "outputs": [
    {
     "data": {
      "text/plain": [
       "<AxesSubplot:>"
      ]
     },
     "execution_count": 11,
     "metadata": {},
     "output_type": "execute_result"
    },
    {
     "data": {
      "image/png": "[encoded data removed]",
      "text/plain": [
       "<Figure size 432x288 with 1 Axes>"
      ]
     },
     "metadata": {
      "needs_background": "light"
     },
     "output_type": "display_data"
    }
   ],
   "source": [
    "# Create a DataFrame containing training history\n",
    "history_df = pd.DataFrame(fit_model.history, index=range(1,len(fit_model.history[\"loss\"])+1))\n",
    "\n",
    "# Plot the loss\n",
    "history_df.plot(y=\"loss\")"
   ]
  },
  {
   "cell_type": "code",
   "execution_count": 12,
   "id": "572d6ae8",
   "metadata": {},
   "outputs": [
    {
     "data": {
      "text/plain": [
       "<AxesSubplot:>"
      ]
     },
     "execution_count": 12,
     "metadata": {},
     "output_type": "execute_result"
    },
    {
     "data": {
      "image/png": "[encoded data removed]",
      "text/plain": [
       "<Figure size 432x288 with 1 Axes>"
      ]
     },
     "metadata": {
      "needs_background": "light"
     },
     "output_type": "display_data"
    }
   ],
   "source": [
    "# Plot the accuracy\n",
    "history_df.plot(y=\"accuracy\")"
   ]
  },
  {
   "cell_type": "code",
   "execution_count": 13,
   "id": "738deb68",
   "metadata": {},
   "outputs": [
    {
     "name": "stdout",
     "output_type": "stream",
     "text": [
      "8/8 - 0s - loss: 0.1064 - accuracy: 1.0000\n",
      "Loss: 0.10641496628522873, Accuracy: 1.0\n"
     ]
    }
   ],
   "source": [
    "# Evaluate the model using the test data\n",
    "model_loss, model_accuracy = nn_model.evaluate(X_test_scaled,y_test,verbose=2)\n",
    "print(f\"Loss: {model_loss}, Accuracy: {model_accuracy}\")"
   ]
  },
  {
   "cell_type": "code",
   "execution_count": 14,
   "id": "6a9c384e",
   "metadata": {},
   "outputs": [
    {
     "data": {
      "text/plain": [
       "<AxesSubplot:xlabel='Feature 1', ylabel='Feature 2'>"
      ]
     },
     "execution_count": 14,
     "metadata": {},
     "output_type": "execute_result"
    },
    {
     "data": {
      "image/png": "[encoded data removed]",
      "text/plain": [
       "<Figure size 432x288 with 2 Axes>"
      ]
     },
     "metadata": {
      "needs_background": "light"
     },
     "output_type": "display_data"
    }
   ],
   "source": [
    "from sklearn.datasets import make_moons\n",
    "\n",
    "# Creating dummy nonlinear data\n",
    "X_moons, y_moons = make_moons(n_samples=1000, noise=0.08, random_state=78)\n",
    "\n",
    "# Transforming y_moons to a vertical vector\n",
    "y_moons = y_moons.reshape(-1, 1)\n",
    "\n",
    "# Creating a DataFrame to plot the nonlinear dummy data\n",
    "df_moons = pd.DataFrame(X_moons, columns=[\"Feature 1\", \"Feature 2\"])\n",
    "df_moons[\"Target\"] = y_moons\n",
    "\n",
    "# Plot the nonlinear dummy data\n",
    "df_moons.plot.scatter(x=\"Feature 1\",y=\"Feature 2\", c=\"Target\",colormap=\"winter\")"
   ]
  },
  {
   "cell_type": "code",
   "execution_count": 15,
   "id": "ace8ca17",
   "metadata": {},
   "outputs": [],
   "source": [
    "# Create training and testing sets\n",
    "X_moon_train, X_moon_test, y_moon_train, y_moon_test = train_test_split(\n",
    "    X_moons, y_moons, random_state=78\n",
    ")\n",
    "\n",
    "# Create the scaler instance\n",
    "X_moon_scaler = skl.preprocessing.StandardScaler()\n",
    "\n",
    "# Fit the scaler\n",
    "X_moon_scaler.fit(X_moon_train)\n",
    "\n",
    "# Scale the data\n",
    "X_moon_train_scaled = X_moon_scaler.transform(X_moon_train)\n",
    "X_moon_test_scaled = X_moon_scaler.transform(X_moon_test)"
   ]
  },
  {
   "cell_type": "code",
   "execution_count": 16,
   "id": "ba2d1057",
   "metadata": {},
   "outputs": [
    {
     "name": "stdout",
     "output_type": "stream",
     "text": [
      "Epoch 1/100\n",
      "24/24 [==============================] - 0s 982us/step - loss: 1.0974 - accuracy: 0.4333\n",
      "Epoch 2/100\n",
      "24/24 [==============================] - 0s 870us/step - loss: 0.9918 - accuracy: 0.4520\n",
      "Epoch 3/100\n",
      "24/24 [==============================] - 0s 881us/step - loss: 0.9167 - accuracy: 0.4680\n",
      "Epoch 4/100\n",
      "24/24 [==============================] - 0s 924us/step - loss: 0.8659 - accuracy: 0.4827\n",
      "Epoch 5/100\n",
      "24/24 [==============================] - 0s 1ms/step - loss: 0.8273 - accuracy: 0.4987\n",
      "Epoch 6/100\n",
      "24/24 [==============================] - 0s 918us/step - loss: 0.7969 - accuracy: 0.5067\n",
      "Epoch 7/100\n",
      "24/24 [==============================] - 0s 879us/step - loss: 0.7716 - accuracy: 0.5173\n",
      "Epoch 8/100\n",
      "24/24 [==============================] - 0s 1ms/step - loss: 0.7501 - accuracy: 0.5293\n",
      "Epoch 9/100\n",
      "24/24 [==============================] - 0s 1ms/step - loss: 0.7313 - accuracy: 0.5360\n",
      "Epoch 10/100\n",
      "24/24 [==============================] - 0s 1ms/step - loss: 0.7144 - accuracy: 0.5413\n",
      "Epoch 11/100\n",
      "24/24 [==============================] - 0s 1ms/step - loss: 0.6993 - accuracy: 0.5520\n",
      "Epoch 12/100\n",
      "24/24 [==============================] - 0s 1ms/step - loss: 0.6854 - accuracy: 0.5587\n",
      "Epoch 13/100\n",
      "24/24 [==============================] - 0s 1ms/step - loss: 0.6723 - accuracy: 0.5707\n",
      "Epoch 14/100\n",
      "24/24 [==============================] - 0s 1ms/step - loss: 0.6603 - accuracy: 0.5800\n",
      "Epoch 15/100\n",
      "24/24 [==============================] - 0s 1ms/step - loss: 0.6491 - accuracy: 0.5880\n",
      "Epoch 16/100\n",
      "24/24 [==============================] - 0s 1ms/step - loss: 0.6387 - accuracy: 0.5920\n",
      "Epoch 17/100\n",
      "24/24 [==============================] - 0s 1ms/step - loss: 0.6289 - accuracy: 0.5960\n",
      "Epoch 18/100\n",
      "24/24 [==============================] - 0s 1ms/step - loss: 0.6195 - accuracy: 0.6080\n",
      "Epoch 19/100\n",
      "24/24 [==============================] - 0s 912us/step - loss: 0.6108 - accuracy: 0.6147\n",
      "Epoch 20/100\n",
      "24/24 [==============================] - 0s 1ms/step - loss: 0.6022 - accuracy: 0.6213\n",
      "Epoch 21/100\n",
      "24/24 [==============================] - 0s 949us/step - loss: 0.5941 - accuracy: 0.6267\n",
      "Epoch 22/100\n",
      "24/24 [==============================] - 0s 1ms/step - loss: 0.5859 - accuracy: 0.6333\n",
      "Epoch 23/100\n",
      "24/24 [==============================] - 0s 1ms/step - loss: 0.5778 - accuracy: 0.6387\n",
      "Epoch 24/100\n",
      "24/24 [==============================] - 0s 1ms/step - loss: 0.5702 - accuracy: 0.6427\n",
      "Epoch 25/100\n",
      "24/24 [==============================] - 0s 1ms/step - loss: 0.5627 - accuracy: 0.6493\n",
      "Epoch 26/100\n",
      "24/24 [==============================] - 0s 940us/step - loss: 0.5556 - accuracy: 0.6560\n",
      "Epoch 27/100\n",
      "24/24 [==============================] - 0s 1ms/step - loss: 0.5488 - accuracy: 0.6587\n",
      "Epoch 28/100\n",
      "24/24 [==============================] - 0s 914us/step - loss: 0.5421 - accuracy: 0.6613\n",
      "Epoch 29/100\n",
      "24/24 [==============================] - 0s 920us/step - loss: 0.5356 - accuracy: 0.6680\n",
      "Epoch 30/100\n",
      "24/24 [==============================] - 0s 2ms/step - loss: 0.5295 - accuracy: 0.6773\n",
      "Epoch 31/100\n",
      "24/24 [==============================] - 0s 1ms/step - loss: 0.5234 - accuracy: 0.6787\n",
      "Epoch 32/100\n",
      "24/24 [==============================] - 0s 1ms/step - loss: 0.5174 - accuracy: 0.6853\n",
      "Epoch 33/100\n",
      "24/24 [==============================] - 0s 1ms/step - loss: 0.5117 - accuracy: 0.6907\n",
      "Epoch 34/100\n",
      "24/24 [==============================] - 0s 1ms/step - loss: 0.5062 - accuracy: 0.6933\n",
      "Epoch 35/100\n",
      "24/24 [==============================] - 0s 1ms/step - loss: 0.5006 - accuracy: 0.6960\n",
      "Epoch 36/100\n",
      "24/24 [==============================] - 0s 1ms/step - loss: 0.4952 - accuracy: 0.7000\n",
      "Epoch 37/100\n",
      "24/24 [==============================] - 0s 996us/step - loss: 0.4899 - accuracy: 0.7067\n",
      "Epoch 38/100\n",
      "24/24 [==============================] - 0s 971us/step - loss: 0.4848 - accuracy: 0.7107\n",
      "Epoch 39/100\n",
      "24/24 [==============================] - 0s 938us/step - loss: 0.4797 - accuracy: 0.7120\n",
      "Epoch 40/100\n",
      "24/24 [==============================] - 0s 974us/step - loss: 0.4748 - accuracy: 0.7187\n",
      "Epoch 41/100\n",
      "24/24 [==============================] - 0s 1ms/step - loss: 0.4699 - accuracy: 0.7240\n",
      "Epoch 42/100\n",
      "24/24 [==============================] - 0s 1ms/step - loss: 0.4651 - accuracy: 0.7293\n",
      "Epoch 43/100\n",
      "24/24 [==============================] - 0s 1ms/step - loss: 0.4603 - accuracy: 0.7320\n",
      "Epoch 44/100\n",
      "24/24 [==============================] - 0s 1ms/step - loss: 0.4556 - accuracy: 0.7333\n",
      "Epoch 45/100\n",
      "24/24 [==============================] - 0s 935us/step - loss: 0.4508 - accuracy: 0.7373\n",
      "Epoch 46/100\n",
      "24/24 [==============================] - 0s 911us/step - loss: 0.4462 - accuracy: 0.7480\n",
      "Epoch 47/100\n",
      "24/24 [==============================] - 0s 822us/step - loss: 0.4416 - accuracy: 0.7520\n",
      "Epoch 48/100\n",
      "24/24 [==============================] - 0s 811us/step - loss: 0.4370 - accuracy: 0.7560\n",
      "Epoch 49/100\n",
      "24/24 [==============================] - 0s 807us/step - loss: 0.4325 - accuracy: 0.7600\n",
      "Epoch 50/100\n",
      "24/24 [==============================] - 0s 801us/step - loss: 0.4281 - accuracy: 0.7640\n",
      "Epoch 51/100\n",
      "24/24 [==============================] - 0s 815us/step - loss: 0.4236 - accuracy: 0.7653\n",
      "Epoch 52/100\n",
      "24/24 [==============================] - 0s 825us/step - loss: 0.4192 - accuracy: 0.7680\n",
      "Epoch 53/100\n",
      "24/24 [==============================] - 0s 819us/step - loss: 0.4149 - accuracy: 0.7733\n",
      "Epoch 54/100\n",
      "24/24 [==============================] - 0s 773us/step - loss: 0.4105 - accuracy: 0.7787\n",
      "Epoch 55/100\n",
      "24/24 [==============================] - 0s 794us/step - loss: 0.4062 - accuracy: 0.7827\n",
      "Epoch 56/100\n",
      "24/24 [==============================] - 0s 767us/step - loss: 0.4021 - accuracy: 0.7867\n",
      "Epoch 57/100\n",
      "24/24 [==============================] - 0s 769us/step - loss: 0.3977 - accuracy: 0.7947\n",
      "Epoch 58/100\n",
      "24/24 [==============================] - 0s 790us/step - loss: 0.3936 - accuracy: 0.8027\n",
      "Epoch 59/100\n",
      "24/24 [==============================] - 0s 795us/step - loss: 0.3895 - accuracy: 0.8040\n",
      "Epoch 60/100\n",
      "24/24 [==============================] - 0s 763us/step - loss: 0.3853 - accuracy: 0.8067\n",
      "Epoch 61/100\n",
      "24/24 [==============================] - 0s 747us/step - loss: 0.3813 - accuracy: 0.8093\n",
      "Epoch 62/100\n",
      "24/24 [==============================] - 0s 793us/step - loss: 0.3773 - accuracy: 0.8107\n",
      "Epoch 63/100\n",
      "24/24 [==============================] - 0s 785us/step - loss: 0.3736 - accuracy: 0.8147\n",
      "Epoch 64/100\n",
      "24/24 [==============================] - 0s 786us/step - loss: 0.3698 - accuracy: 0.8160\n",
      "Epoch 65/100\n",
      "24/24 [==============================] - 0s 764us/step - loss: 0.3662 - accuracy: 0.8187\n",
      "Epoch 66/100\n",
      "24/24 [==============================] - 0s 789us/step - loss: 0.3627 - accuracy: 0.8213\n",
      "Epoch 67/100\n",
      "24/24 [==============================] - 0s 798us/step - loss: 0.3593 - accuracy: 0.8227\n",
      "Epoch 68/100\n",
      "24/24 [==============================] - 0s 855us/step - loss: 0.3559 - accuracy: 0.8227\n",
      "Epoch 69/100\n",
      "24/24 [==============================] - 0s 841us/step - loss: 0.3528 - accuracy: 0.8227\n",
      "Epoch 70/100\n",
      "24/24 [==============================] - 0s 794us/step - loss: 0.3496 - accuracy: 0.8253\n",
      "Epoch 71/100\n",
      "24/24 [==============================] - 0s 834us/step - loss: 0.3466 - accuracy: 0.8280\n",
      "Epoch 72/100\n",
      "24/24 [==============================] - 0s 841us/step - loss: 0.3436 - accuracy: 0.8280\n",
      "Epoch 73/100\n",
      "24/24 [==============================] - 0s 806us/step - loss: 0.3407 - accuracy: 0.8293\n",
      "Epoch 74/100\n",
      "24/24 [==============================] - 0s 821us/step - loss: 0.3379 - accuracy: 0.8320\n",
      "Epoch 75/100\n",
      "24/24 [==============================] - 0s 824us/step - loss: 0.3352 - accuracy: 0.8333\n",
      "Epoch 76/100\n",
      "24/24 [==============================] - 0s 819us/step - loss: 0.3326 - accuracy: 0.8360\n",
      "Epoch 77/100\n",
      "24/24 [==============================] - 0s 775us/step - loss: 0.3302 - accuracy: 0.8400\n",
      "Epoch 78/100\n",
      "24/24 [==============================] - 0s 765us/step - loss: 0.3279 - accuracy: 0.8427\n",
      "Epoch 79/100\n",
      "24/24 [==============================] - 0s 812us/step - loss: 0.3255 - accuracy: 0.8453\n",
      "Epoch 80/100\n",
      "24/24 [==============================] - 0s 838us/step - loss: 0.3234 - accuracy: 0.8453\n",
      "Epoch 81/100\n",
      "24/24 [==============================] - 0s 817us/step - loss: 0.3211 - accuracy: 0.8467\n"
     ]
    },
    {
     "name": "stdout",
     "output_type": "stream",
     "text": [
      "Epoch 82/100\n",
      "24/24 [==============================] - 0s 809us/step - loss: 0.3191 - accuracy: 0.8480\n",
      "Epoch 83/100\n",
      "24/24 [==============================] - 0s 783us/step - loss: 0.3170 - accuracy: 0.8520\n",
      "Epoch 84/100\n",
      "24/24 [==============================] - 0s 847us/step - loss: 0.3150 - accuracy: 0.8520\n",
      "Epoch 85/100\n",
      "24/24 [==============================] - 0s 803us/step - loss: 0.3131 - accuracy: 0.8533\n",
      "Epoch 86/100\n",
      "24/24 [==============================] - 0s 813us/step - loss: 0.3112 - accuracy: 0.8573\n",
      "Epoch 87/100\n",
      "24/24 [==============================] - 0s 821us/step - loss: 0.3093 - accuracy: 0.8573\n",
      "Epoch 88/100\n",
      "24/24 [==============================] - 0s 840us/step - loss: 0.3076 - accuracy: 0.8600\n",
      "Epoch 89/100\n",
      "24/24 [==============================] - 0s 741us/step - loss: 0.3059 - accuracy: 0.8600\n",
      "Epoch 90/100\n",
      "24/24 [==============================] - 0s 789us/step - loss: 0.3042 - accuracy: 0.8613\n",
      "Epoch 91/100\n",
      "24/24 [==============================] - 0s 760us/step - loss: 0.3027 - accuracy: 0.8640\n",
      "Epoch 92/100\n",
      "24/24 [==============================] - 0s 761us/step - loss: 0.3010 - accuracy: 0.8667\n",
      "Epoch 93/100\n",
      "24/24 [==============================] - 0s 973us/step - loss: 0.2996 - accuracy: 0.8667\n",
      "Epoch 94/100\n",
      "24/24 [==============================] - 0s 861us/step - loss: 0.2981 - accuracy: 0.8667\n",
      "Epoch 95/100\n",
      "24/24 [==============================] - 0s 843us/step - loss: 0.2967 - accuracy: 0.8680\n",
      "Epoch 96/100\n",
      "24/24 [==============================] - 0s 991us/step - loss: 0.2954 - accuracy: 0.8693\n",
      "Epoch 97/100\n",
      "24/24 [==============================] - 0s 949us/step - loss: 0.2940 - accuracy: 0.8693\n",
      "Epoch 98/100\n",
      "24/24 [==============================] - 0s 882us/step - loss: 0.2927 - accuracy: 0.8707\n",
      "Epoch 99/100\n",
      "24/24 [==============================] - 0s 866us/step - loss: 0.2915 - accuracy: 0.8707\n",
      "Epoch 100/100\n",
      "24/24 [==============================] - 0s 901us/step - loss: 0.2903 - accuracy: 0.8707\n"
     ]
    }
   ],
   "source": [
    "# Training the model with the nonlinear data\n",
    "model_moon = nn_model.fit(X_moon_train_scaled, y_moon_train, epochs=100, shuffle=True)"
   ]
  },
  {
   "cell_type": "code",
   "execution_count": 17,
   "id": "14be267d",
   "metadata": {},
   "outputs": [
    {
     "data": {
      "text/plain": [
       "<AxesSubplot:>"
      ]
     },
     "execution_count": 17,
     "metadata": {},
     "output_type": "execute_result"
    },
    {
     "data": {
      "image/png": "[encoded data removed]",
      "text/plain": [
       "<Figure size 432x288 with 1 Axes>"
      ]
     },
     "metadata": {
      "needs_background": "light"
     },
     "output_type": "display_data"
    }
   ],
   "source": [
    "# Create a DataFrame containing training history\n",
    "history_df = pd.DataFrame(model_moon.history, index=range(1,len(model_moon.history[\"loss\"])+1))\n",
    "\n",
    "# Plot the loss\n",
    "history_df.plot(y=\"loss\")"
   ]
  },
  {
   "cell_type": "code",
   "execution_count": 18,
   "id": "e6d36b75",
   "metadata": {},
   "outputs": [
    {
     "data": {
      "text/plain": [
       "<AxesSubplot:>"
      ]
     },
     "execution_count": 18,
     "metadata": {},
     "output_type": "execute_result"
    },
    {
     "data": {
      "image/png": "[encoded data removed]",
      "text/plain": [
       "<Figure size 432x288 with 1 Axes>"
      ]
     },
     "metadata": {
      "needs_background": "light"
     },
     "output_type": "display_data"
    }
   ],
   "source": [
    "# Plot the accuracy\n",
    "history_df.plot(y=\"accuracy\")"
   ]
  },
  {
   "cell_type": "code",
   "execution_count": 19,
   "id": "96f18c8d",
   "metadata": {},
   "outputs": [],
   "source": [
    "# Generate our new Sequential model\n",
    "new_model = tf.keras.models.Sequential()"
   ]
  },
  {
   "cell_type": "code",
   "execution_count": 20,
   "id": "fff02f44",
   "metadata": {},
   "outputs": [],
   "source": [
    "# Add the input and hidden layer\n",
    "number_inputs = 2\n",
    "number_hidden_nodes = 6\n",
    "\n",
    "new_model.add(tf.keras.layers.Dense(units=number_hidden_nodes, activation=\"relu\", input_dim=number_inputs))\n",
    "\n",
    "# Add the output layer that uses a probability activation function\n",
    "new_model.add(tf.keras.layers.Dense(units=1, activation=\"sigmoid\"))"
   ]
  },
  {
   "cell_type": "code",
   "execution_count": 21,
   "id": "6a2d7b35",
   "metadata": {},
   "outputs": [],
   "source": [
    "# Add the input and hidden layer\n",
    "number_inputs = 2\n",
    "number_hidden_nodes = 6\n",
    "\n",
    "new_model.add(tf.keras.layers.Dense(units=number_hidden_nodes, activation=\"relu\", input_dim=number_inputs))\n",
    "\n",
    "# Add the output layer that uses a probability activation function\n",
    "new_model.add(tf.keras.layers.Dense(units=1, activation=\"sigmoid\"))"
   ]
  },
  {
   "cell_type": "code",
   "execution_count": 22,
   "id": "bdef4470",
   "metadata": {},
   "outputs": [
    {
     "name": "stdout",
     "output_type": "stream",
     "text": [
      "Epoch 1/100\n",
      "24/24 [==============================] - 0s 812us/step - loss: 0.7560 - accuracy: 0.4693\n",
      "Epoch 2/100\n",
      "24/24 [==============================] - 0s 771us/step - loss: 0.7357 - accuracy: 0.4693\n",
      "Epoch 3/100\n",
      "24/24 [==============================] - 0s 812us/step - loss: 0.7196 - accuracy: 0.4693\n",
      "Epoch 4/100\n",
      "24/24 [==============================] - 0s 760us/step - loss: 0.7066 - accuracy: 0.4693\n",
      "Epoch 5/100\n",
      "24/24 [==============================] - 0s 800us/step - loss: 0.6962 - accuracy: 0.4667\n",
      "Epoch 6/100\n",
      "24/24 [==============================] - 0s 729us/step - loss: 0.6873 - accuracy: 0.5227\n",
      "Epoch 7/100\n",
      "24/24 [==============================] - 0s 799us/step - loss: 0.6798 - accuracy: 0.6387\n",
      "Epoch 8/100\n",
      "24/24 [==============================] - 0s 836us/step - loss: 0.6734 - accuracy: 0.6987\n",
      "Epoch 9/100\n",
      "24/24 [==============================] - 0s 798us/step - loss: 0.6667 - accuracy: 0.7213\n",
      "Epoch 10/100\n",
      "24/24 [==============================] - 0s 719us/step - loss: 0.6596 - accuracy: 0.7520\n",
      "Epoch 11/100\n",
      "24/24 [==============================] - 0s 712us/step - loss: 0.6520 - accuracy: 0.7627\n",
      "Epoch 12/100\n",
      "24/24 [==============================] - 0s 797us/step - loss: 0.6440 - accuracy: 0.7813\n",
      "Epoch 13/100\n",
      "24/24 [==============================] - 0s 947us/step - loss: 0.6355 - accuracy: 0.7853\n",
      "Epoch 14/100\n",
      "24/24 [==============================] - 0s 1ms/step - loss: 0.6267 - accuracy: 0.7853\n",
      "Epoch 15/100\n",
      "24/24 [==============================] - 0s 1ms/step - loss: 0.6165 - accuracy: 0.8000\n",
      "Epoch 16/100\n",
      "24/24 [==============================] - 0s 1ms/step - loss: 0.6061 - accuracy: 0.8013\n",
      "Epoch 17/100\n",
      "24/24 [==============================] - 0s 948us/step - loss: 0.5950 - accuracy: 0.8080\n",
      "Epoch 18/100\n",
      "24/24 [==============================] - 0s 816us/step - loss: 0.5833 - accuracy: 0.8120\n",
      "Epoch 19/100\n",
      "24/24 [==============================] - 0s 868us/step - loss: 0.5716 - accuracy: 0.8187\n",
      "Epoch 20/100\n",
      "24/24 [==============================] - 0s 1ms/step - loss: 0.5597 - accuracy: 0.8253\n",
      "Epoch 21/100\n",
      "24/24 [==============================] - 0s 1ms/step - loss: 0.5476 - accuracy: 0.8347\n",
      "Epoch 22/100\n",
      "24/24 [==============================] - 0s 1ms/step - loss: 0.5361 - accuracy: 0.8413\n",
      "Epoch 23/100\n",
      "24/24 [==============================] - 0s 1ms/step - loss: 0.5246 - accuracy: 0.8493\n",
      "Epoch 24/100\n",
      "24/24 [==============================] - 0s 928us/step - loss: 0.5133 - accuracy: 0.8600\n",
      "Epoch 25/100\n",
      "24/24 [==============================] - 0s 1ms/step - loss: 0.5028 - accuracy: 0.8613\n",
      "Epoch 26/100\n",
      "24/24 [==============================] - 0s 969us/step - loss: 0.4928 - accuracy: 0.8680\n",
      "Epoch 27/100\n",
      "24/24 [==============================] - 0s 1ms/step - loss: 0.4831 - accuracy: 0.8720\n",
      "Epoch 28/100\n",
      "24/24 [==============================] - 0s 1ms/step - loss: 0.4740 - accuracy: 0.8733\n",
      "Epoch 29/100\n",
      "24/24 [==============================] - 0s 1ms/step - loss: 0.4655 - accuracy: 0.8773\n",
      "Epoch 30/100\n",
      "24/24 [==============================] - 0s 1ms/step - loss: 0.4574 - accuracy: 0.8813\n",
      "Epoch 31/100\n",
      "24/24 [==============================] - 0s 1ms/step - loss: 0.4498 - accuracy: 0.8840\n",
      "Epoch 32/100\n",
      "24/24 [==============================] - 0s 1ms/step - loss: 0.4427 - accuracy: 0.8880\n",
      "Epoch 33/100\n",
      "24/24 [==============================] - 0s 1ms/step - loss: 0.4361 - accuracy: 0.8880\n",
      "Epoch 34/100\n",
      "24/24 [==============================] - 0s 1ms/step - loss: 0.4298 - accuracy: 0.8867\n",
      "Epoch 35/100\n",
      "24/24 [==============================] - 0s 1ms/step - loss: 0.4239 - accuracy: 0.8880\n",
      "Epoch 36/100\n",
      "24/24 [==============================] - 0s 954us/step - loss: 0.4183 - accuracy: 0.8880\n",
      "Epoch 37/100\n",
      "24/24 [==============================] - 0s 938us/step - loss: 0.4132 - accuracy: 0.8880\n",
      "Epoch 38/100\n",
      "24/24 [==============================] - 0s 1ms/step - loss: 0.4082 - accuracy: 0.8907\n",
      "Epoch 39/100\n",
      "24/24 [==============================] - 0s 1ms/step - loss: 0.4036 - accuracy: 0.8920\n",
      "Epoch 40/100\n",
      "24/24 [==============================] - 0s 1ms/step - loss: 0.3992 - accuracy: 0.8933\n",
      "Epoch 41/100\n",
      "24/24 [==============================] - 0s 1ms/step - loss: 0.3950 - accuracy: 0.8933\n",
      "Epoch 42/100\n",
      "24/24 [==============================] - 0s 1ms/step - loss: 0.3908 - accuracy: 0.8933\n",
      "Epoch 43/100\n",
      "24/24 [==============================] - 0s 1ms/step - loss: 0.3871 - accuracy: 0.8933\n",
      "Epoch 44/100\n",
      "24/24 [==============================] - 0s 1ms/step - loss: 0.3835 - accuracy: 0.8907\n",
      "Epoch 45/100\n",
      "24/24 [==============================] - 0s 1ms/step - loss: 0.3801 - accuracy: 0.8907\n",
      "Epoch 46/100\n",
      "24/24 [==============================] - 0s 1ms/step - loss: 0.3769 - accuracy: 0.8920\n",
      "Epoch 47/100\n",
      "24/24 [==============================] - 0s 1ms/step - loss: 0.3737 - accuracy: 0.8933\n",
      "Epoch 48/100\n",
      "24/24 [==============================] - 0s 1ms/step - loss: 0.3708 - accuracy: 0.8933\n",
      "Epoch 49/100\n",
      "24/24 [==============================] - 0s 1ms/step - loss: 0.3679 - accuracy: 0.8920\n",
      "Epoch 50/100\n",
      "24/24 [==============================] - 0s 1ms/step - loss: 0.3651 - accuracy: 0.8960\n",
      "Epoch 51/100\n",
      "24/24 [==============================] - 0s 1ms/step - loss: 0.3625 - accuracy: 0.8960\n",
      "Epoch 52/100\n",
      "24/24 [==============================] - 0s 1ms/step - loss: 0.3600 - accuracy: 0.8960\n",
      "Epoch 53/100\n",
      "24/24 [==============================] - 0s 1ms/step - loss: 0.3575 - accuracy: 0.8960\n",
      "Epoch 54/100\n",
      "24/24 [==============================] - 0s 985us/step - loss: 0.3552 - accuracy: 0.8947\n",
      "Epoch 55/100\n",
      "24/24 [==============================] - 0s 916us/step - loss: 0.3529 - accuracy: 0.8947\n",
      "Epoch 56/100\n",
      "24/24 [==============================] - 0s 914us/step - loss: 0.3509 - accuracy: 0.8947\n",
      "Epoch 57/100\n",
      "24/24 [==============================] - 0s 801us/step - loss: 0.3488 - accuracy: 0.8960\n",
      "Epoch 58/100\n",
      "24/24 [==============================] - 0s 984us/step - loss: 0.3468 - accuracy: 0.8947\n",
      "Epoch 59/100\n",
      "24/24 [==============================] - 0s 906us/step - loss: 0.3449 - accuracy: 0.8933\n",
      "Epoch 60/100\n",
      "24/24 [==============================] - 0s 826us/step - loss: 0.3430 - accuracy: 0.8933\n",
      "Epoch 61/100\n",
      "24/24 [==============================] - 0s 730us/step - loss: 0.3412 - accuracy: 0.8933\n",
      "Epoch 62/100\n",
      "24/24 [==============================] - 0s 687us/step - loss: 0.3396 - accuracy: 0.8933\n",
      "Epoch 63/100\n",
      "24/24 [==============================] - 0s 708us/step - loss: 0.3378 - accuracy: 0.8933\n",
      "Epoch 64/100\n",
      "24/24 [==============================] - 0s 740us/step - loss: 0.3362 - accuracy: 0.8960\n",
      "Epoch 65/100\n",
      "24/24 [==============================] - 0s 709us/step - loss: 0.3346 - accuracy: 0.8960\n",
      "Epoch 66/100\n",
      "24/24 [==============================] - 0s 698us/step - loss: 0.3336 - accuracy: 0.8947\n",
      "Epoch 67/100\n",
      "24/24 [==============================] - 0s 747us/step - loss: 0.3316 - accuracy: 0.8960\n",
      "Epoch 68/100\n",
      "24/24 [==============================] - 0s 706us/step - loss: 0.3302 - accuracy: 0.8933\n",
      "Epoch 69/100\n",
      "24/24 [==============================] - 0s 728us/step - loss: 0.3288 - accuracy: 0.8933\n",
      "Epoch 70/100\n",
      "24/24 [==============================] - 0s 683us/step - loss: 0.3274 - accuracy: 0.8933\n",
      "Epoch 71/100\n",
      "24/24 [==============================] - 0s 719us/step - loss: 0.3263 - accuracy: 0.8933\n",
      "Epoch 72/100\n",
      "24/24 [==============================] - 0s 707us/step - loss: 0.3249 - accuracy: 0.8933\n",
      "Epoch 73/100\n",
      "24/24 [==============================] - 0s 666us/step - loss: 0.3237 - accuracy: 0.8920\n",
      "Epoch 74/100\n",
      "24/24 [==============================] - 0s 675us/step - loss: 0.3230 - accuracy: 0.8933\n",
      "Epoch 75/100\n",
      "24/24 [==============================] - 0s 685us/step - loss: 0.3215 - accuracy: 0.8933\n",
      "Epoch 76/100\n",
      "24/24 [==============================] - 0s 694us/step - loss: 0.3202 - accuracy: 0.8933\n",
      "Epoch 77/100\n",
      "24/24 [==============================] - 0s 673us/step - loss: 0.3194 - accuracy: 0.8933\n",
      "Epoch 78/100\n",
      "24/24 [==============================] - 0s 686us/step - loss: 0.3181 - accuracy: 0.8933\n",
      "Epoch 79/100\n",
      "24/24 [==============================] - 0s 698us/step - loss: 0.3172 - accuracy: 0.8933\n",
      "Epoch 80/100\n",
      "24/24 [==============================] - 0s 680us/step - loss: 0.3161 - accuracy: 0.8933\n",
      "Epoch 81/100\n",
      "24/24 [==============================] - 0s 681us/step - loss: 0.3151 - accuracy: 0.8920\n",
      "Epoch 82/100\n"
     ]
    },
    {
     "name": "stdout",
     "output_type": "stream",
     "text": [
      "24/24 [==============================] - 0s 659us/step - loss: 0.3142 - accuracy: 0.8933\n",
      "Epoch 83/100\n",
      "24/24 [==============================] - 0s 687us/step - loss: 0.3137 - accuracy: 0.8933\n",
      "Epoch 84/100\n",
      "24/24 [==============================] - 0s 685us/step - loss: 0.3123 - accuracy: 0.8933\n",
      "Epoch 85/100\n",
      "24/24 [==============================] - 0s 678us/step - loss: 0.3116 - accuracy: 0.8947\n",
      "Epoch 86/100\n",
      "24/24 [==============================] - 0s 679us/step - loss: 0.3105 - accuracy: 0.8933\n",
      "Epoch 87/100\n",
      "24/24 [==============================] - 0s 676us/step - loss: 0.3096 - accuracy: 0.8933\n",
      "Epoch 88/100\n",
      "24/24 [==============================] - 0s 653us/step - loss: 0.3089 - accuracy: 0.8933\n",
      "Epoch 89/100\n",
      "24/24 [==============================] - 0s 689us/step - loss: 0.3081 - accuracy: 0.8933\n",
      "Epoch 90/100\n",
      "24/24 [==============================] - 0s 688us/step - loss: 0.3071 - accuracy: 0.8933\n",
      "Epoch 91/100\n",
      "24/24 [==============================] - 0s 687us/step - loss: 0.3062 - accuracy: 0.8933\n",
      "Epoch 92/100\n",
      "24/24 [==============================] - 0s 680us/step - loss: 0.3057 - accuracy: 0.8947\n",
      "Epoch 93/100\n",
      "24/24 [==============================] - 0s 694us/step - loss: 0.3048 - accuracy: 0.8933\n",
      "Epoch 94/100\n",
      "24/24 [==============================] - 0s 826us/step - loss: 0.3039 - accuracy: 0.8933\n",
      "Epoch 95/100\n",
      "24/24 [==============================] - 0s 690us/step - loss: 0.3033 - accuracy: 0.8920\n",
      "Epoch 96/100\n",
      "24/24 [==============================] - 0s 671us/step - loss: 0.3024 - accuracy: 0.8933\n",
      "Epoch 97/100\n",
      "24/24 [==============================] - 0s 679us/step - loss: 0.3021 - accuracy: 0.8947\n",
      "Epoch 98/100\n",
      "24/24 [==============================] - 0s 649us/step - loss: 0.3013 - accuracy: 0.8947\n",
      "Epoch 99/100\n",
      "24/24 [==============================] - 0s 663us/step - loss: 0.3003 - accuracy: 0.8920\n",
      "Epoch 100/100\n",
      "24/24 [==============================] - 0s 764us/step - loss: 0.2999 - accuracy: 0.8933\n"
     ]
    }
   ],
   "source": [
    "# Compile the Sequential model together and customize metrics\n",
    "new_model.compile(loss=\"binary_crossentropy\", optimizer=\"adam\", metrics=[\"accuracy\"])\n",
    "\n",
    "# Fit the model to the training data\n",
    "new_fit_model = new_model.fit(X_moon_train_scaled, y_moon_train, epochs=100, shuffle=True)"
   ]
  },
  {
   "cell_type": "code",
   "execution_count": null,
   "id": "33560b87",
   "metadata": {},
   "outputs": [],
   "source": []
  }
 ],
 "metadata": {
  "kernelspec": {
   "display_name": "mlenv",
   "language": "python",
   "name": "mlenv"
  },
  "language_info": {
   "codemirror_mode": {
    "name": "ipython",
    "version": 3
   },
   "file_extension": ".py",
   "mimetype": "text/x-python",
   "name": "python",
   "nbconvert_exporter": "python",
   "pygments_lexer": "ipython3",
   "version": "3.9.5"
  }
 },
 "nbformat": 4,
 "nbformat_minor": 5
}
