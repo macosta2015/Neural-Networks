{
 "cells": [
  {
   "cell_type": "code",
   "execution_count": 1,
   "id": "63ff19d9",
   "metadata": {},
   "outputs": [],
   "source": [
    "# Import our dependencies\n",
    "import pandas as pd\n",
    "import matplotlib as plt\n",
    "from sklearn.datasets import make_blobs\n",
    "import sklearn as skl\n",
    "import tensorflow as tf"
   ]
  },
  {
   "cell_type": "code",
   "execution_count": 2,
   "id": "c28cf1ac",
   "metadata": {},
   "outputs": [
    {
     "data": {
      "text/plain": [
       "<AxesSubplot:xlabel='Feature 1', ylabel='Feature 2'>"
      ]
     },
     "execution_count": 2,
     "metadata": {},
     "output_type": "execute_result"
    },
    {
     "data": {
      "image/png": "[encoded data removed]",
      "text/plain": [
       "<Figure size 432x288 with 2 Axes>"
      ]
     },
     "metadata": {
      "needs_background": "light"
     },
     "output_type": "display_data"
    }
   ],
   "source": [
    "# Generate dummy dataset\n",
    "X, y = make_blobs(n_samples=1000, centers=2, n_features=2, random_state=78)\n",
    "\n",
    "# Creating a DataFrame with the dummy data\n",
    "df = pd.DataFrame(X, columns=[\"Feature 1\", \"Feature 2\"])\n",
    "df[\"Target\"] = y\n",
    "\n",
    "# Plotting the dummy data\n",
    "df.plot.scatter(x=\"Feature 1\", y=\"Feature 2\", c=\"Target\", colormap=\"winter\")"
   ]
  },
  {
   "cell_type": "code",
   "execution_count": 3,
   "id": "c7bdb822",
   "metadata": {},
   "outputs": [],
   "source": [
    "# Use sklearn to split dataset\n",
    "from sklearn.model_selection import train_test_split\n",
    "X_train, X_test, y_train, y_test = train_test_split(X, y, random_state=78)"
   ]
  },
  {
   "cell_type": "code",
   "execution_count": 4,
   "id": "f05a26af",
   "metadata": {},
   "outputs": [],
   "source": [
    "# Create scaler instance\n",
    "X_scaler = skl.preprocessing.StandardScaler()\n",
    "\n",
    "# Fit the scaler\n",
    "X_scaler.fit(X_train)\n",
    "\n",
    "# Scale the data\n",
    "X_train_scaled = X_scaler.transform(X_train)\n",
    "X_test_scaled = X_scaler.transform(X_test)"
   ]
  },
  {
   "cell_type": "code",
   "execution_count": 5,
   "id": "cbdce8cc",
   "metadata": {},
   "outputs": [],
   "source": [
    "# Create the Keras Sequential model\n",
    "nn_model = tf.keras.models.Sequential()"
   ]
  },
  {
   "cell_type": "code",
   "execution_count": 6,
   "id": "417d4c0b",
   "metadata": {},
   "outputs": [],
   "source": [
    "# Add our first Dense layer, including the input layer\n",
    "nn_model.add(tf.keras.layers.Dense(units=1, activation=\"relu\", input_dim=2))"
   ]
  },
  {
   "cell_type": "code",
   "execution_count": 7,
   "id": "dd75a4a7",
   "metadata": {},
   "outputs": [],
   "source": [
    "# Add the output layer that uses a probability activation function\n",
    "nn_model.add(tf.keras.layers.Dense(units=1, activation=\"sigmoid\"))"
   ]
  },
  {
   "cell_type": "code",
   "execution_count": 8,
   "id": "332468f1",
   "metadata": {},
   "outputs": [
    {
     "name": "stdout",
     "output_type": "stream",
     "text": [
      "Model: \"sequential\"\n",
      "_________________________________________________________________\n",
      "Layer (type)                 Output Shape              Param #   \n",
      "=================================================================\n",
      "dense (Dense)                (None, 1)                 3         \n",
      "_________________________________________________________________\n",
      "dense_1 (Dense)              (None, 1)                 2         \n",
      "=================================================================\n",
      "Total params: 5\n",
      "Trainable params: 5\n",
      "Non-trainable params: 0\n",
      "_________________________________________________________________\n"
     ]
    }
   ],
   "source": [
    "# Check the structure of the Sequential model\n",
    "nn_model.summary()"
   ]
  },
  {
   "cell_type": "code",
   "execution_count": 9,
   "id": "a91a6068",
   "metadata": {},
   "outputs": [],
   "source": [
    "# Compile the Sequential model together and customize metrics\n",
    "nn_model.compile(loss=\"binary_crossentropy\", optimizer=\"adam\", metrics=[\"accuracy\"])"
   ]
  },
  {
   "cell_type": "code",
   "execution_count": 10,
   "id": "bda3f63b",
   "metadata": {},
   "outputs": [
    {
     "name": "stdout",
     "output_type": "stream",
     "text": [
      "Epoch 1/100\n",
      "24/24 [==============================] - 0s 715us/step - loss: 0.7445 - accuracy: 0.0667\n",
      "Epoch 2/100\n",
      "24/24 [==============================] - 0s 616us/step - loss: 0.7354 - accuracy: 0.0093\n",
      "Epoch 3/100\n",
      "24/24 [==============================] - 0s 614us/step - loss: 0.7277 - accuracy: 0.0093\n",
      "Epoch 4/100\n",
      "24/24 [==============================] - 0s 611us/step - loss: 0.7213 - accuracy: 0.0133\n",
      "Epoch 5/100\n",
      "24/24 [==============================] - 0s 702us/step - loss: 0.7159 - accuracy: 0.0253\n",
      "Epoch 6/100\n",
      "24/24 [==============================] - 0s 650us/step - loss: 0.7115 - accuracy: 0.0560\n",
      "Epoch 7/100\n",
      "24/24 [==============================] - 0s 625us/step - loss: 0.7077 - accuracy: 0.0920\n",
      "Epoch 8/100\n",
      "24/24 [==============================] - 0s 584us/step - loss: 0.7046 - accuracy: 0.1533\n",
      "Epoch 9/100\n",
      "24/24 [==============================] - 0s 737us/step - loss: 0.7022 - accuracy: 0.2387\n",
      "Epoch 10/100\n",
      "24/24 [==============================] - 0s 612us/step - loss: 0.7001 - accuracy: 0.3040\n",
      "Epoch 11/100\n",
      "24/24 [==============================] - 0s 613us/step - loss: 0.6984 - accuracy: 0.4307\n",
      "Epoch 12/100\n",
      "24/24 [==============================] - 0s 682us/step - loss: 0.6970 - accuracy: 0.4947\n",
      "Epoch 13/100\n",
      "24/24 [==============================] - 0s 879us/step - loss: 0.6959 - accuracy: 0.5053\n",
      "Epoch 14/100\n",
      "24/24 [==============================] - 0s 741us/step - loss: 0.6950 - accuracy: 0.5067\n",
      "Epoch 15/100\n",
      "24/24 [==============================] - 0s 894us/step - loss: 0.6943 - accuracy: 0.5067\n",
      "Epoch 16/100\n",
      "24/24 [==============================] - 0s 765us/step - loss: 0.6936 - accuracy: 0.5067\n",
      "Epoch 17/100\n",
      "24/24 [==============================] - 0s 662us/step - loss: 0.6929 - accuracy: 0.5067\n",
      "Epoch 18/100\n",
      "24/24 [==============================] - 0s 705us/step - loss: 0.6923 - accuracy: 0.5067\n",
      "Epoch 19/100\n",
      "24/24 [==============================] - 0s 737us/step - loss: 0.6916 - accuracy: 0.5067\n",
      "Epoch 20/100\n",
      "24/24 [==============================] - 0s 612us/step - loss: 0.6908 - accuracy: 0.5067\n",
      "Epoch 21/100\n",
      "24/24 [==============================] - 0s 737us/step - loss: 0.6897 - accuracy: 0.5067\n",
      "Epoch 22/100\n",
      "24/24 [==============================] - 0s 618us/step - loss: 0.6883 - accuracy: 0.5067\n",
      "Epoch 23/100\n",
      "24/24 [==============================] - 0s 651us/step - loss: 0.6863 - accuracy: 0.5067\n",
      "Epoch 24/100\n",
      "24/24 [==============================] - 0s 675us/step - loss: 0.6837 - accuracy: 0.5067\n",
      "Epoch 25/100\n",
      "24/24 [==============================] - 0s 687us/step - loss: 0.6801 - accuracy: 0.5067\n",
      "Epoch 26/100\n",
      "24/24 [==============================] - 0s 701us/step - loss: 0.6751 - accuracy: 0.5067\n",
      "Epoch 27/100\n",
      "24/24 [==============================] - 0s 1ms/step - loss: 0.6684 - accuracy: 0.5067\n",
      "Epoch 28/100\n",
      "24/24 [==============================] - 0s 923us/step - loss: 0.6598 - accuracy: 0.5067\n",
      "Epoch 29/100\n",
      "24/24 [==============================] - 0s 809us/step - loss: 0.6489 - accuracy: 0.5067\n",
      "Epoch 30/100\n",
      "24/24 [==============================] - 0s 678us/step - loss: 0.6357 - accuracy: 0.5067\n",
      "Epoch 31/100\n",
      "24/24 [==============================] - 0s 706us/step - loss: 0.6205 - accuracy: 0.6053\n",
      "Epoch 32/100\n",
      "24/24 [==============================] - 0s 781us/step - loss: 0.6030 - accuracy: 0.9960\n",
      "Epoch 33/100\n",
      "24/24 [==============================] - 0s 836us/step - loss: 0.5843 - accuracy: 0.9960\n",
      "Epoch 34/100\n",
      "24/24 [==============================] - 0s 918us/step - loss: 0.5646 - accuracy: 0.9947\n",
      "Epoch 35/100\n",
      "24/24 [==============================] - 0s 900us/step - loss: 0.5446 - accuracy: 0.9947\n",
      "Epoch 36/100\n",
      "24/24 [==============================] - 0s 888us/step - loss: 0.5245 - accuracy: 0.9947\n",
      "Epoch 37/100\n",
      "24/24 [==============================] - 0s 898us/step - loss: 0.5048 - accuracy: 0.9947\n",
      "Epoch 38/100\n",
      "24/24 [==============================] - 0s 897us/step - loss: 0.4854 - accuracy: 0.9947\n",
      "Epoch 39/100\n",
      "24/24 [==============================] - 0s 895us/step - loss: 0.4670 - accuracy: 0.9947\n",
      "Epoch 40/100\n",
      "24/24 [==============================] - 0s 786us/step - loss: 0.4493 - accuracy: 0.9947\n",
      "Epoch 41/100\n",
      "24/24 [==============================] - 0s 864us/step - loss: 0.4325 - accuracy: 0.9947\n",
      "Epoch 42/100\n",
      "24/24 [==============================] - 0s 837us/step - loss: 0.4165 - accuracy: 0.9960\n",
      "Epoch 43/100\n",
      "24/24 [==============================] - 0s 830us/step - loss: 0.4015 - accuracy: 0.9960\n",
      "Epoch 44/100\n",
      "24/24 [==============================] - 0s 956us/step - loss: 0.3873 - accuracy: 0.9960\n",
      "Epoch 45/100\n",
      "24/24 [==============================] - 0s 777us/step - loss: 0.3738 - accuracy: 0.9960\n",
      "Epoch 46/100\n",
      "24/24 [==============================] - 0s 863us/step - loss: 0.3611 - accuracy: 0.9960\n",
      "Epoch 47/100\n",
      "24/24 [==============================] - 0s 827us/step - loss: 0.3491 - accuracy: 0.9960\n",
      "Epoch 48/100\n",
      "24/24 [==============================] - 0s 828us/step - loss: 0.3378 - accuracy: 0.9960\n",
      "Epoch 49/100\n",
      "24/24 [==============================] - 0s 823us/step - loss: 0.3271 - accuracy: 0.9960\n",
      "Epoch 50/100\n",
      "24/24 [==============================] - 0s 831us/step - loss: 0.3169 - accuracy: 0.9960\n",
      "Epoch 51/100\n",
      "24/24 [==============================] - 0s 898us/step - loss: 0.3073 - accuracy: 0.9960\n",
      "Epoch 52/100\n",
      "24/24 [==============================] - 0s 800us/step - loss: 0.2981 - accuracy: 0.9960\n",
      "Epoch 53/100\n",
      "24/24 [==============================] - 0s 824us/step - loss: 0.2894 - accuracy: 0.9960\n",
      "Epoch 54/100\n",
      "24/24 [==============================] - 0s 801us/step - loss: 0.2812 - accuracy: 0.9960\n",
      "Epoch 55/100\n",
      "24/24 [==============================] - 0s 857us/step - loss: 0.2733 - accuracy: 0.9960\n",
      "Epoch 56/100\n",
      "24/24 [==============================] - 0s 839us/step - loss: 0.2658 - accuracy: 0.9960\n",
      "Epoch 57/100\n",
      "24/24 [==============================] - 0s 752us/step - loss: 0.2586 - accuracy: 0.9960\n",
      "Epoch 58/100\n",
      "24/24 [==============================] - 0s 597us/step - loss: 0.2518 - accuracy: 0.9960\n",
      "Epoch 59/100\n",
      "24/24 [==============================] - 0s 679us/step - loss: 0.2452 - accuracy: 0.9960\n",
      "Epoch 60/100\n",
      "24/24 [==============================] - 0s 645us/step - loss: 0.2389 - accuracy: 0.9960\n",
      "Epoch 61/100\n",
      "24/24 [==============================] - 0s 616us/step - loss: 0.2329 - accuracy: 0.9960\n",
      "Epoch 62/100\n",
      "24/24 [==============================] - 0s 586us/step - loss: 0.2271 - accuracy: 0.9960\n",
      "Epoch 63/100\n",
      "24/24 [==============================] - 0s 611us/step - loss: 0.2216 - accuracy: 0.9960\n",
      "Epoch 64/100\n",
      "24/24 [==============================] - 0s 641us/step - loss: 0.2162 - accuracy: 0.9960\n",
      "Epoch 65/100\n",
      "24/24 [==============================] - 0s 647us/step - loss: 0.2111 - accuracy: 0.9960\n",
      "Epoch 66/100\n",
      "24/24 [==============================] - 0s 596us/step - loss: 0.2061 - accuracy: 0.9960\n",
      "Epoch 67/100\n",
      "24/24 [==============================] - 0s 593us/step - loss: 0.2014 - accuracy: 0.9960\n",
      "Epoch 68/100\n",
      "24/24 [==============================] - 0s 599us/step - loss: 0.1968 - accuracy: 0.9960\n",
      "Epoch 69/100\n",
      "24/24 [==============================] - 0s 596us/step - loss: 0.1924 - accuracy: 0.9960\n",
      "Epoch 70/100\n",
      "24/24 [==============================] - 0s 606us/step - loss: 0.1881 - accuracy: 0.9960\n",
      "Epoch 71/100\n",
      "24/24 [==============================] - 0s 582us/step - loss: 0.1839 - accuracy: 0.9960\n",
      "Epoch 72/100\n",
      "24/24 [==============================] - 0s 593us/step - loss: 0.1800 - accuracy: 0.9960\n",
      "Epoch 73/100\n",
      "24/24 [==============================] - 0s 598us/step - loss: 0.1761 - accuracy: 0.9973\n",
      "Epoch 74/100\n",
      "24/24 [==============================] - 0s 599us/step - loss: 0.1724 - accuracy: 0.9973\n",
      "Epoch 75/100\n",
      "24/24 [==============================] - 0s 600us/step - loss: 0.1688 - accuracy: 0.9987\n",
      "Epoch 76/100\n",
      "24/24 [==============================] - 0s 588us/step - loss: 0.1653 - accuracy: 0.9987\n",
      "Epoch 77/100\n",
      "24/24 [==============================] - 0s 576us/step - loss: 0.1619 - accuracy: 1.0000\n",
      "Epoch 78/100\n",
      "24/24 [==============================] - 0s 591us/step - loss: 0.1586 - accuracy: 1.0000\n",
      "Epoch 79/100\n",
      "24/24 [==============================] - 0s 592us/step - loss: 0.1554 - accuracy: 1.0000\n",
      "Epoch 80/100\n",
      "24/24 [==============================] - 0s 592us/step - loss: 0.1523 - accuracy: 1.0000\n",
      "Epoch 81/100\n"
     ]
    },
    {
     "name": "stdout",
     "output_type": "stream",
     "text": [
      "24/24 [==============================] - 0s 578us/step - loss: 0.1493 - accuracy: 1.0000\n",
      "Epoch 82/100\n",
      "24/24 [==============================] - 0s 602us/step - loss: 0.1464 - accuracy: 1.0000\n",
      "Epoch 83/100\n",
      "24/24 [==============================] - 0s 582us/step - loss: 0.1436 - accuracy: 1.0000\n",
      "Epoch 84/100\n",
      "24/24 [==============================] - 0s 578us/step - loss: 0.1408 - accuracy: 1.0000\n",
      "Epoch 85/100\n",
      "24/24 [==============================] - 0s 849us/step - loss: 0.1381 - accuracy: 1.0000\n",
      "Epoch 86/100\n",
      "24/24 [==============================] - 0s 675us/step - loss: 0.1355 - accuracy: 1.0000\n",
      "Epoch 87/100\n",
      "24/24 [==============================] - 0s 565us/step - loss: 0.1330 - accuracy: 1.0000\n",
      "Epoch 88/100\n",
      "24/24 [==============================] - 0s 559us/step - loss: 0.1305 - accuracy: 1.0000\n",
      "Epoch 89/100\n",
      "24/24 [==============================] - 0s 559us/step - loss: 0.1281 - accuracy: 1.0000\n",
      "Epoch 90/100\n",
      "24/24 [==============================] - 0s 561us/step - loss: 0.1258 - accuracy: 1.0000\n",
      "Epoch 91/100\n",
      "24/24 [==============================] - 0s 577us/step - loss: 0.1234 - accuracy: 1.0000\n",
      "Epoch 92/100\n",
      "24/24 [==============================] - 0s 563us/step - loss: 0.1212 - accuracy: 1.0000\n",
      "Epoch 93/100\n",
      "24/24 [==============================] - 0s 556us/step - loss: 0.1191 - accuracy: 1.0000\n",
      "Epoch 94/100\n",
      "24/24 [==============================] - 0s 564us/step - loss: 0.1169 - accuracy: 1.0000\n",
      "Epoch 95/100\n",
      "24/24 [==============================] - 0s 561us/step - loss: 0.1149 - accuracy: 1.0000\n",
      "Epoch 96/100\n",
      "24/24 [==============================] - 0s 556us/step - loss: 0.1129 - accuracy: 1.0000\n",
      "Epoch 97/100\n",
      "24/24 [==============================] - 0s 581us/step - loss: 0.1109 - accuracy: 1.0000\n",
      "Epoch 98/100\n",
      "24/24 [==============================] - 0s 558us/step - loss: 0.1090 - accuracy: 1.0000\n",
      "Epoch 99/100\n",
      "24/24 [==============================] - 0s 561us/step - loss: 0.1071 - accuracy: 1.0000\n",
      "Epoch 100/100\n",
      "24/24 [==============================] - 0s 609us/step - loss: 0.1053 - accuracy: 1.0000\n"
     ]
    }
   ],
   "source": [
    "# Fit the model to the training data\n",
    "fit_model = nn_model.fit(X_train_scaled, y_train, epochs=100)"
   ]
  },
  {
   "cell_type": "code",
   "execution_count": 11,
   "id": "aebd2b20",
   "metadata": {},
   "outputs": [
    {
     "data": {
      "text/plain": [
       "<AxesSubplot:>"
      ]
     },
     "execution_count": 11,
     "metadata": {},
     "output_type": "execute_result"
    },
    {
     "data": {
      "image/png": "[encoded data removed]",
      "text/plain": [
       "<Figure size 432x288 with 1 Axes>"
      ]
     },
     "metadata": {
      "needs_background": "light"
     },
     "output_type": "display_data"
    }
   ],
   "source": [
    "# Create a DataFrame containing training history\n",
    "history_df = pd.DataFrame(fit_model.history, index=range(1,len(fit_model.history[\"loss\"])+1))\n",
    "\n",
    "# Plot the loss\n",
    "history_df.plot(y=\"loss\")"
   ]
  },
  {
   "cell_type": "code",
   "execution_count": 12,
   "id": "83234b69",
   "metadata": {},
   "outputs": [
    {
     "data": {
      "text/plain": [
       "<AxesSubplot:>"
      ]
     },
     "execution_count": 12,
     "metadata": {},
     "output_type": "execute_result"
    },
    {
     "data": {
      "image/png": "[encoded data removed]",
      "text/plain": [
       "<Figure size 432x288 with 1 Axes>"
      ]
     },
     "metadata": {
      "needs_background": "light"
     },
     "output_type": "display_data"
    }
   ],
   "source": [
    "# Plot the accuracy\n",
    "history_df.plot(y=\"accuracy\")"
   ]
  },
  {
   "cell_type": "code",
   "execution_count": 13,
   "id": "d224082f",
   "metadata": {},
   "outputs": [
    {
     "name": "stdout",
     "output_type": "stream",
     "text": [
      "8/8 - 0s - loss: 0.1064 - accuracy: 1.0000\n",
      "Loss: 0.10641496628522873, Accuracy: 1.0\n"
     ]
    }
   ],
   "source": [
    "# Evaluate the model using the test data\n",
    "model_loss, model_accuracy = nn_model.evaluate(X_test_scaled,y_test,verbose=2)\n",
    "print(f\"Loss: {model_loss}, Accuracy: {model_accuracy}\")"
   ]
  },
  {
   "cell_type": "code",
   "execution_count": null,
   "id": "88c14609",
   "metadata": {},
   "outputs": [],
   "source": []
  }
 ],
 "metadata": {
  "kernelspec": {
   "display_name": "mlenv",
   "language": "python",
   "name": "mlenv"
  },
  "language_info": {
   "codemirror_mode": {
    "name": "ipython",
    "version": 3
   },
   "file_extension": ".py",
   "mimetype": "text/x-python",
   "name": "python",
   "nbconvert_exporter": "python",
   "pygments_lexer": "ipython3",
   "version": "3.9.5"
  }
 },
 "nbformat": 4,
 "nbformat_minor": 5
}
